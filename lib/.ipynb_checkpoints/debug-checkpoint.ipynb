{
 "cells": [
  {
   "cell_type": "code",
   "execution_count": 2,
   "metadata": {
    "collapsed": false
   },
   "outputs": [],
   "source": [
    "import os\n",
    "from time import time \n",
    "import random\n",
    "#import sys\n",
    "#import operator\n",
    "import numpy as np\n",
    "import pandas as pd\n",
    "from scipy import sparse\n",
    "import xgboost as xgb\n",
    "from xgboost.sklearn import XGBClassifier\n",
    "#from sklearn import model_selection, preprocessing, ensemble\n",
    "from sklearn.metrics import log_loss, accuracy_score\n",
    "#from sklearn.feature_extraction.text import TfidfVectorizer, CountVectorizer"
   ]
  },
  {
   "cell_type": "code",
   "execution_count": 3,
   "metadata": {
    "collapsed": true
   },
   "outputs": [],
   "source": [
    "import matplotlib.pylab as plt\n",
    "%matplotlib inline"
   ]
  },
  {
   "cell_type": "code",
   "execution_count": 4,
   "metadata": {
    "collapsed": true
   },
   "outputs": [],
   "source": [
    "def modelfit(alg, train_X, train_y, useTrainCV=True, cv_folds=5, early_stopping_rounds=30):\n",
    "    \n",
    "    if useTrainCV:\n",
    "        xgb_param = alg.get_xgb_params()\n",
    "        xgtrain = xgb.DMatrix(train_X,label=train_y)\n",
    "        #xgtrain = xgb.DMatrix(dtrain[predictors].values, label=dtrain[target].values)\n",
    "        start_train = time()\n",
    "        cvresult = xgb.cv(xgb_param, xgtrain, num_boost_round=alg.get_params()['n_estimators'], nfold=cv_folds,\n",
    "            metrics='logloss', early_stopping_rounds=early_stopping_rounds)\n",
    "        alg.set_params(n_estimators=cvresult.shape[0])\n",
    "    \n",
    "    index = range(train_X.shape[0])\n",
    "    random.shuffle(index)\n",
    "    train_len = int(0.8*train_X.shape[0])\n",
    "    train_index = index[:train_len]\n",
    "    val_index = index[train_len:]\n",
    "    #Fit the algorithm on the data\n",
    "    alg.fit(train_X[train_index,:], train_y[train_index,],eval_metric='logloss')\n",
    "    end_train = time()\n",
    "    print('training time: %.4g' % (end_train - start_train))\n",
    "        \n",
    "    #Predict training set:\n",
    "    val_predictions = alg.predict(train_X[val_index,:])\n",
    "    val_predprob = alg.predict_proba(train_X[val_index,:])[:,1]\n",
    "        \n",
    "    #Print model report:\n",
    "    print \"\\nModel Report\"\n",
    "    print \"Accuracy(val) : %.4g\" % accuracy_score(train_y[val_index,], val_predictions)\n",
    "    print \"logloss Score (val): %f\" % log_loss(train_y[val_index,], val_predprob)\n",
    "                    \n",
    "    feat_imp = pd.Series(alg.booster().get_fscore()).sort_values(ascending=False)\n",
    "    feat_imp.plot(kind='bar', title='Feature Importances')\n",
    "    plt.ylabel('Feature Importance Score')"
   ]
  },
  {
   "cell_type": "code",
   "execution_count": 24,
   "metadata": {
    "collapsed": true
   },
   "outputs": [],
   "source": [
    "preds = xgb1.predict(test_X)"
   ]
  },
  {
   "cell_type": "code",
   "execution_count": 27,
   "metadata": {
    "collapsed": false
   },
   "outputs": [
    {
     "data": {
      "text/plain": [
       "0.76000000000000001"
      ]
     },
     "execution_count": 27,
     "metadata": {},
     "output_type": "execute_result"
    }
   ],
   "source": [
    "accuracy_score(test_y,preds)"
   ]
  },
  {
   "cell_type": "code",
   "execution_count": 22,
   "metadata": {
    "collapsed": false
   },
   "outputs": [
    {
     "data": {
      "text/html": [
       "<div>\n",
       "<table border=\"1\" class=\"dataframe\">\n",
       "  <thead>\n",
       "    <tr style=\"text-align: right;\">\n",
       "      <th></th>\n",
       "      <th>test-logloss-mean</th>\n",
       "      <th>test-logloss-std</th>\n",
       "      <th>train-logloss-mean</th>\n",
       "      <th>train-logloss-std</th>\n",
       "    </tr>\n",
       "  </thead>\n",
       "  <tbody>\n",
       "    <tr>\n",
       "      <th>0</th>\n",
       "      <td>0.680836</td>\n",
       "      <td>0.003198</td>\n",
       "      <td>0.656950</td>\n",
       "      <td>0.002566</td>\n",
       "    </tr>\n",
       "    <tr>\n",
       "      <th>1</th>\n",
       "      <td>0.670279</td>\n",
       "      <td>0.005958</td>\n",
       "      <td>0.623260</td>\n",
       "      <td>0.004267</td>\n",
       "    </tr>\n",
       "    <tr>\n",
       "      <th>2</th>\n",
       "      <td>0.658826</td>\n",
       "      <td>0.006989</td>\n",
       "      <td>0.593185</td>\n",
       "      <td>0.006427</td>\n",
       "    </tr>\n",
       "    <tr>\n",
       "      <th>3</th>\n",
       "      <td>0.646850</td>\n",
       "      <td>0.007072</td>\n",
       "      <td>0.562975</td>\n",
       "      <td>0.007304</td>\n",
       "    </tr>\n",
       "    <tr>\n",
       "      <th>4</th>\n",
       "      <td>0.640163</td>\n",
       "      <td>0.009004</td>\n",
       "      <td>0.537867</td>\n",
       "      <td>0.007488</td>\n",
       "    </tr>\n",
       "    <tr>\n",
       "      <th>5</th>\n",
       "      <td>0.632632</td>\n",
       "      <td>0.008216</td>\n",
       "      <td>0.513151</td>\n",
       "      <td>0.008021</td>\n",
       "    </tr>\n",
       "    <tr>\n",
       "      <th>6</th>\n",
       "      <td>0.626698</td>\n",
       "      <td>0.010264</td>\n",
       "      <td>0.492119</td>\n",
       "      <td>0.007942</td>\n",
       "    </tr>\n",
       "    <tr>\n",
       "      <th>7</th>\n",
       "      <td>0.619197</td>\n",
       "      <td>0.010340</td>\n",
       "      <td>0.471745</td>\n",
       "      <td>0.007512</td>\n",
       "    </tr>\n",
       "    <tr>\n",
       "      <th>8</th>\n",
       "      <td>0.613525</td>\n",
       "      <td>0.011675</td>\n",
       "      <td>0.452709</td>\n",
       "      <td>0.007847</td>\n",
       "    </tr>\n",
       "    <tr>\n",
       "      <th>9</th>\n",
       "      <td>0.609673</td>\n",
       "      <td>0.013546</td>\n",
       "      <td>0.434061</td>\n",
       "      <td>0.007077</td>\n",
       "    </tr>\n",
       "    <tr>\n",
       "      <th>10</th>\n",
       "      <td>0.602438</td>\n",
       "      <td>0.014585</td>\n",
       "      <td>0.416051</td>\n",
       "      <td>0.007936</td>\n",
       "    </tr>\n",
       "    <tr>\n",
       "      <th>11</th>\n",
       "      <td>0.598364</td>\n",
       "      <td>0.013450</td>\n",
       "      <td>0.400393</td>\n",
       "      <td>0.008569</td>\n",
       "    </tr>\n",
       "    <tr>\n",
       "      <th>12</th>\n",
       "      <td>0.594523</td>\n",
       "      <td>0.014559</td>\n",
       "      <td>0.385635</td>\n",
       "      <td>0.008190</td>\n",
       "    </tr>\n",
       "    <tr>\n",
       "      <th>13</th>\n",
       "      <td>0.591843</td>\n",
       "      <td>0.014928</td>\n",
       "      <td>0.372093</td>\n",
       "      <td>0.006520</td>\n",
       "    </tr>\n",
       "    <tr>\n",
       "      <th>14</th>\n",
       "      <td>0.587546</td>\n",
       "      <td>0.015434</td>\n",
       "      <td>0.358028</td>\n",
       "      <td>0.006578</td>\n",
       "    </tr>\n",
       "    <tr>\n",
       "      <th>15</th>\n",
       "      <td>0.587071</td>\n",
       "      <td>0.016368</td>\n",
       "      <td>0.345755</td>\n",
       "      <td>0.007046</td>\n",
       "    </tr>\n",
       "    <tr>\n",
       "      <th>16</th>\n",
       "      <td>0.583568</td>\n",
       "      <td>0.015151</td>\n",
       "      <td>0.334133</td>\n",
       "      <td>0.007342</td>\n",
       "    </tr>\n",
       "    <tr>\n",
       "      <th>17</th>\n",
       "      <td>0.578998</td>\n",
       "      <td>0.014366</td>\n",
       "      <td>0.322805</td>\n",
       "      <td>0.007813</td>\n",
       "    </tr>\n",
       "    <tr>\n",
       "      <th>18</th>\n",
       "      <td>0.576202</td>\n",
       "      <td>0.015643</td>\n",
       "      <td>0.312214</td>\n",
       "      <td>0.007785</td>\n",
       "    </tr>\n",
       "    <tr>\n",
       "      <th>19</th>\n",
       "      <td>0.573887</td>\n",
       "      <td>0.016508</td>\n",
       "      <td>0.302598</td>\n",
       "      <td>0.007786</td>\n",
       "    </tr>\n",
       "    <tr>\n",
       "      <th>20</th>\n",
       "      <td>0.571211</td>\n",
       "      <td>0.017508</td>\n",
       "      <td>0.292458</td>\n",
       "      <td>0.006722</td>\n",
       "    </tr>\n",
       "    <tr>\n",
       "      <th>21</th>\n",
       "      <td>0.569087</td>\n",
       "      <td>0.017751</td>\n",
       "      <td>0.282958</td>\n",
       "      <td>0.005952</td>\n",
       "    </tr>\n",
       "    <tr>\n",
       "      <th>22</th>\n",
       "      <td>0.568380</td>\n",
       "      <td>0.017989</td>\n",
       "      <td>0.274453</td>\n",
       "      <td>0.005662</td>\n",
       "    </tr>\n",
       "    <tr>\n",
       "      <th>23</th>\n",
       "      <td>0.566636</td>\n",
       "      <td>0.018361</td>\n",
       "      <td>0.266778</td>\n",
       "      <td>0.005442</td>\n",
       "    </tr>\n",
       "    <tr>\n",
       "      <th>24</th>\n",
       "      <td>0.564073</td>\n",
       "      <td>0.019268</td>\n",
       "      <td>0.259039</td>\n",
       "      <td>0.005417</td>\n",
       "    </tr>\n",
       "    <tr>\n",
       "      <th>25</th>\n",
       "      <td>0.562251</td>\n",
       "      <td>0.019935</td>\n",
       "      <td>0.251079</td>\n",
       "      <td>0.005500</td>\n",
       "    </tr>\n",
       "    <tr>\n",
       "      <th>26</th>\n",
       "      <td>0.559834</td>\n",
       "      <td>0.021334</td>\n",
       "      <td>0.244201</td>\n",
       "      <td>0.004473</td>\n",
       "    </tr>\n",
       "    <tr>\n",
       "      <th>27</th>\n",
       "      <td>0.557007</td>\n",
       "      <td>0.019873</td>\n",
       "      <td>0.236744</td>\n",
       "      <td>0.004694</td>\n",
       "    </tr>\n",
       "    <tr>\n",
       "      <th>28</th>\n",
       "      <td>0.555213</td>\n",
       "      <td>0.022585</td>\n",
       "      <td>0.229379</td>\n",
       "      <td>0.005742</td>\n",
       "    </tr>\n",
       "    <tr>\n",
       "      <th>29</th>\n",
       "      <td>0.554511</td>\n",
       "      <td>0.023191</td>\n",
       "      <td>0.222260</td>\n",
       "      <td>0.006086</td>\n",
       "    </tr>\n",
       "    <tr>\n",
       "      <th>...</th>\n",
       "      <td>...</td>\n",
       "      <td>...</td>\n",
       "      <td>...</td>\n",
       "      <td>...</td>\n",
       "    </tr>\n",
       "    <tr>\n",
       "      <th>161</th>\n",
       "      <td>0.501851</td>\n",
       "      <td>0.049113</td>\n",
       "      <td>0.023744</td>\n",
       "      <td>0.000977</td>\n",
       "    </tr>\n",
       "    <tr>\n",
       "      <th>162</th>\n",
       "      <td>0.501934</td>\n",
       "      <td>0.049774</td>\n",
       "      <td>0.023513</td>\n",
       "      <td>0.000965</td>\n",
       "    </tr>\n",
       "    <tr>\n",
       "      <th>163</th>\n",
       "      <td>0.502065</td>\n",
       "      <td>0.050123</td>\n",
       "      <td>0.023305</td>\n",
       "      <td>0.000938</td>\n",
       "    </tr>\n",
       "    <tr>\n",
       "      <th>164</th>\n",
       "      <td>0.501853</td>\n",
       "      <td>0.050022</td>\n",
       "      <td>0.023086</td>\n",
       "      <td>0.000929</td>\n",
       "    </tr>\n",
       "    <tr>\n",
       "      <th>165</th>\n",
       "      <td>0.501420</td>\n",
       "      <td>0.049310</td>\n",
       "      <td>0.022868</td>\n",
       "      <td>0.000910</td>\n",
       "    </tr>\n",
       "    <tr>\n",
       "      <th>166</th>\n",
       "      <td>0.501616</td>\n",
       "      <td>0.049284</td>\n",
       "      <td>0.022661</td>\n",
       "      <td>0.000892</td>\n",
       "    </tr>\n",
       "    <tr>\n",
       "      <th>167</th>\n",
       "      <td>0.502062</td>\n",
       "      <td>0.049579</td>\n",
       "      <td>0.022461</td>\n",
       "      <td>0.000896</td>\n",
       "    </tr>\n",
       "    <tr>\n",
       "      <th>168</th>\n",
       "      <td>0.502373</td>\n",
       "      <td>0.050289</td>\n",
       "      <td>0.022265</td>\n",
       "      <td>0.000887</td>\n",
       "    </tr>\n",
       "    <tr>\n",
       "      <th>169</th>\n",
       "      <td>0.503043</td>\n",
       "      <td>0.050777</td>\n",
       "      <td>0.022065</td>\n",
       "      <td>0.000875</td>\n",
       "    </tr>\n",
       "    <tr>\n",
       "      <th>170</th>\n",
       "      <td>0.502705</td>\n",
       "      <td>0.050657</td>\n",
       "      <td>0.021878</td>\n",
       "      <td>0.000876</td>\n",
       "    </tr>\n",
       "    <tr>\n",
       "      <th>171</th>\n",
       "      <td>0.502397</td>\n",
       "      <td>0.050910</td>\n",
       "      <td>0.021702</td>\n",
       "      <td>0.000874</td>\n",
       "    </tr>\n",
       "    <tr>\n",
       "      <th>172</th>\n",
       "      <td>0.501942</td>\n",
       "      <td>0.051205</td>\n",
       "      <td>0.021523</td>\n",
       "      <td>0.000859</td>\n",
       "    </tr>\n",
       "    <tr>\n",
       "      <th>173</th>\n",
       "      <td>0.502334</td>\n",
       "      <td>0.051599</td>\n",
       "      <td>0.021343</td>\n",
       "      <td>0.000843</td>\n",
       "    </tr>\n",
       "    <tr>\n",
       "      <th>174</th>\n",
       "      <td>0.502380</td>\n",
       "      <td>0.051560</td>\n",
       "      <td>0.021159</td>\n",
       "      <td>0.000832</td>\n",
       "    </tr>\n",
       "    <tr>\n",
       "      <th>175</th>\n",
       "      <td>0.502167</td>\n",
       "      <td>0.052433</td>\n",
       "      <td>0.020978</td>\n",
       "      <td>0.000819</td>\n",
       "    </tr>\n",
       "    <tr>\n",
       "      <th>176</th>\n",
       "      <td>0.502321</td>\n",
       "      <td>0.052501</td>\n",
       "      <td>0.020794</td>\n",
       "      <td>0.000810</td>\n",
       "    </tr>\n",
       "    <tr>\n",
       "      <th>177</th>\n",
       "      <td>0.502080</td>\n",
       "      <td>0.052696</td>\n",
       "      <td>0.020627</td>\n",
       "      <td>0.000801</td>\n",
       "    </tr>\n",
       "    <tr>\n",
       "      <th>178</th>\n",
       "      <td>0.501624</td>\n",
       "      <td>0.052811</td>\n",
       "      <td>0.020454</td>\n",
       "      <td>0.000787</td>\n",
       "    </tr>\n",
       "    <tr>\n",
       "      <th>179</th>\n",
       "      <td>0.501463</td>\n",
       "      <td>0.052789</td>\n",
       "      <td>0.020285</td>\n",
       "      <td>0.000774</td>\n",
       "    </tr>\n",
       "    <tr>\n",
       "      <th>180</th>\n",
       "      <td>0.501126</td>\n",
       "      <td>0.052348</td>\n",
       "      <td>0.020116</td>\n",
       "      <td>0.000763</td>\n",
       "    </tr>\n",
       "    <tr>\n",
       "      <th>181</th>\n",
       "      <td>0.500524</td>\n",
       "      <td>0.052400</td>\n",
       "      <td>0.019952</td>\n",
       "      <td>0.000750</td>\n",
       "    </tr>\n",
       "    <tr>\n",
       "      <th>182</th>\n",
       "      <td>0.500919</td>\n",
       "      <td>0.053083</td>\n",
       "      <td>0.019775</td>\n",
       "      <td>0.000735</td>\n",
       "    </tr>\n",
       "    <tr>\n",
       "      <th>183</th>\n",
       "      <td>0.501040</td>\n",
       "      <td>0.052847</td>\n",
       "      <td>0.019627</td>\n",
       "      <td>0.000735</td>\n",
       "    </tr>\n",
       "    <tr>\n",
       "      <th>184</th>\n",
       "      <td>0.500826</td>\n",
       "      <td>0.053275</td>\n",
       "      <td>0.019469</td>\n",
       "      <td>0.000717</td>\n",
       "    </tr>\n",
       "    <tr>\n",
       "      <th>185</th>\n",
       "      <td>0.500101</td>\n",
       "      <td>0.053463</td>\n",
       "      <td>0.019306</td>\n",
       "      <td>0.000710</td>\n",
       "    </tr>\n",
       "    <tr>\n",
       "      <th>186</th>\n",
       "      <td>0.500728</td>\n",
       "      <td>0.053646</td>\n",
       "      <td>0.019152</td>\n",
       "      <td>0.000703</td>\n",
       "    </tr>\n",
       "    <tr>\n",
       "      <th>187</th>\n",
       "      <td>0.500788</td>\n",
       "      <td>0.054364</td>\n",
       "      <td>0.019000</td>\n",
       "      <td>0.000690</td>\n",
       "    </tr>\n",
       "    <tr>\n",
       "      <th>188</th>\n",
       "      <td>0.500637</td>\n",
       "      <td>0.054472</td>\n",
       "      <td>0.018844</td>\n",
       "      <td>0.000690</td>\n",
       "    </tr>\n",
       "    <tr>\n",
       "      <th>189</th>\n",
       "      <td>0.500096</td>\n",
       "      <td>0.055061</td>\n",
       "      <td>0.018689</td>\n",
       "      <td>0.000678</td>\n",
       "    </tr>\n",
       "    <tr>\n",
       "      <th>190</th>\n",
       "      <td>0.499834</td>\n",
       "      <td>0.055204</td>\n",
       "      <td>0.018557</td>\n",
       "      <td>0.000674</td>\n",
       "    </tr>\n",
       "  </tbody>\n",
       "</table>\n",
       "<p>191 rows × 4 columns</p>\n",
       "</div>"
      ],
      "text/plain": [
       "     test-logloss-mean  test-logloss-std  train-logloss-mean  \\\n",
       "0             0.680836          0.003198            0.656950   \n",
       "1             0.670279          0.005958            0.623260   \n",
       "2             0.658826          0.006989            0.593185   \n",
       "3             0.646850          0.007072            0.562975   \n",
       "4             0.640163          0.009004            0.537867   \n",
       "5             0.632632          0.008216            0.513151   \n",
       "6             0.626698          0.010264            0.492119   \n",
       "7             0.619197          0.010340            0.471745   \n",
       "8             0.613525          0.011675            0.452709   \n",
       "9             0.609673          0.013546            0.434061   \n",
       "10            0.602438          0.014585            0.416051   \n",
       "11            0.598364          0.013450            0.400393   \n",
       "12            0.594523          0.014559            0.385635   \n",
       "13            0.591843          0.014928            0.372093   \n",
       "14            0.587546          0.015434            0.358028   \n",
       "15            0.587071          0.016368            0.345755   \n",
       "16            0.583568          0.015151            0.334133   \n",
       "17            0.578998          0.014366            0.322805   \n",
       "18            0.576202          0.015643            0.312214   \n",
       "19            0.573887          0.016508            0.302598   \n",
       "20            0.571211          0.017508            0.292458   \n",
       "21            0.569087          0.017751            0.282958   \n",
       "22            0.568380          0.017989            0.274453   \n",
       "23            0.566636          0.018361            0.266778   \n",
       "24            0.564073          0.019268            0.259039   \n",
       "25            0.562251          0.019935            0.251079   \n",
       "26            0.559834          0.021334            0.244201   \n",
       "27            0.557007          0.019873            0.236744   \n",
       "28            0.555213          0.022585            0.229379   \n",
       "29            0.554511          0.023191            0.222260   \n",
       "..                 ...               ...                 ...   \n",
       "161           0.501851          0.049113            0.023744   \n",
       "162           0.501934          0.049774            0.023513   \n",
       "163           0.502065          0.050123            0.023305   \n",
       "164           0.501853          0.050022            0.023086   \n",
       "165           0.501420          0.049310            0.022868   \n",
       "166           0.501616          0.049284            0.022661   \n",
       "167           0.502062          0.049579            0.022461   \n",
       "168           0.502373          0.050289            0.022265   \n",
       "169           0.503043          0.050777            0.022065   \n",
       "170           0.502705          0.050657            0.021878   \n",
       "171           0.502397          0.050910            0.021702   \n",
       "172           0.501942          0.051205            0.021523   \n",
       "173           0.502334          0.051599            0.021343   \n",
       "174           0.502380          0.051560            0.021159   \n",
       "175           0.502167          0.052433            0.020978   \n",
       "176           0.502321          0.052501            0.020794   \n",
       "177           0.502080          0.052696            0.020627   \n",
       "178           0.501624          0.052811            0.020454   \n",
       "179           0.501463          0.052789            0.020285   \n",
       "180           0.501126          0.052348            0.020116   \n",
       "181           0.500524          0.052400            0.019952   \n",
       "182           0.500919          0.053083            0.019775   \n",
       "183           0.501040          0.052847            0.019627   \n",
       "184           0.500826          0.053275            0.019469   \n",
       "185           0.500101          0.053463            0.019306   \n",
       "186           0.500728          0.053646            0.019152   \n",
       "187           0.500788          0.054364            0.019000   \n",
       "188           0.500637          0.054472            0.018844   \n",
       "189           0.500096          0.055061            0.018689   \n",
       "190           0.499834          0.055204            0.018557   \n",
       "\n",
       "     train-logloss-std  \n",
       "0             0.002566  \n",
       "1             0.004267  \n",
       "2             0.006427  \n",
       "3             0.007304  \n",
       "4             0.007488  \n",
       "5             0.008021  \n",
       "6             0.007942  \n",
       "7             0.007512  \n",
       "8             0.007847  \n",
       "9             0.007077  \n",
       "10            0.007936  \n",
       "11            0.008569  \n",
       "12            0.008190  \n",
       "13            0.006520  \n",
       "14            0.006578  \n",
       "15            0.007046  \n",
       "16            0.007342  \n",
       "17            0.007813  \n",
       "18            0.007785  \n",
       "19            0.007786  \n",
       "20            0.006722  \n",
       "21            0.005952  \n",
       "22            0.005662  \n",
       "23            0.005442  \n",
       "24            0.005417  \n",
       "25            0.005500  \n",
       "26            0.004473  \n",
       "27            0.004694  \n",
       "28            0.005742  \n",
       "29            0.006086  \n",
       "..                 ...  \n",
       "161           0.000977  \n",
       "162           0.000965  \n",
       "163           0.000938  \n",
       "164           0.000929  \n",
       "165           0.000910  \n",
       "166           0.000892  \n",
       "167           0.000896  \n",
       "168           0.000887  \n",
       "169           0.000875  \n",
       "170           0.000876  \n",
       "171           0.000874  \n",
       "172           0.000859  \n",
       "173           0.000843  \n",
       "174           0.000832  \n",
       "175           0.000819  \n",
       "176           0.000810  \n",
       "177           0.000801  \n",
       "178           0.000787  \n",
       "179           0.000774  \n",
       "180           0.000763  \n",
       "181           0.000750  \n",
       "182           0.000735  \n",
       "183           0.000735  \n",
       "184           0.000717  \n",
       "185           0.000710  \n",
       "186           0.000703  \n",
       "187           0.000690  \n",
       "188           0.000690  \n",
       "189           0.000678  \n",
       "190           0.000674  \n",
       "\n",
       "[191 rows x 4 columns]"
      ]
     },
     "execution_count": 22,
     "metadata": {},
     "output_type": "execute_result"
    }
   ],
   "source": [
    "cvresult"
   ]
  },
  {
   "cell_type": "code",
   "execution_count": 7,
   "metadata": {
    "collapsed": false
   },
   "outputs": [],
   "source": [
    "xgb1 = XGBClassifier(\n",
    " learning_rate =0.03,\n",
    " n_estimators=400,\n",
    " max_depth=5,\n",
    " min_child_weight=1,\n",
    " gamma=0,\n",
    " subsample=0.7,\n",
    " colsample_bytree=0.7,\n",
    " objective= 'binary:logistic',\n",
    " #nthread=4,\n",
    " #scale_pos_weight=1,\n",
    " seed=59)"
   ]
  },
  {
   "cell_type": "code",
   "execution_count": 8,
   "metadata": {
    "collapsed": false
   },
   "outputs": [
    {
     "name": "stdout",
     "output_type": "stream",
     "text": [
      "training time: 82.85\n",
      "\n",
      "Model Report\n",
      "Accuracy(val) : 0.7438\n",
      "logloss Score (val): 0.526039\n"
     ]
    },
    {
     "data": {
      "image/png": "[encoded data removed]",
      "text/plain": [
       "<matplotlib.figure.Figure at 0x111af5350>"
      ]
     },
     "metadata": {},
     "output_type": "display_data"
    }
   ],
   "source": [
    "modelfit(xgb1, train_X, train_y)"
   ]
  },
  {
   "cell_type": "code",
   "execution_count": 45,
   "metadata": {
    "collapsed": false
   },
   "outputs": [
    {
     "data": {
      "text/plain": [
       "list"
      ]
     },
     "execution_count": 45,
     "metadata": {},
     "output_type": "execute_result"
    }
   ],
   "source": []
  },
  {
   "cell_type": "code",
   "execution_count": 21,
   "metadata": {
    "collapsed": true
   },
   "outputs": [],
   "source": [
    "def runXGB(train_X, train_y, test_X, test_y=None, feature_names=None, seed_val=0, num_rounds=1000):\n",
    "    param = {}\n",
    "    param['objective'] = 'binary:logistic'\n",
    "    param['eta'] = 0.1\n",
    "    param['max_depth'] = 6\n",
    "    param['silent'] = 1\n",
    "    param['num_class'] = 2\n",
    "    param['eval_metric'] = \"mlogloss\"\n",
    "    param['min_child_weight'] = 1\n",
    "    param['subsample'] = 0.7\n",
    "    param['colsample_bytree'] = 0.7\n",
    "    param['seed'] = seed_val\n",
    "    num_rounds = num_rounds\n",
    "\n",
    "    plist = list(param.items())\n",
    "    xgtrain = xgb.DMatrix(train_X,label=train_y)\n",
    "\n",
    "    if test_y is not None:\n",
    "        xgtest = xgb.DMatrix(test_X, label=test_y)\n",
    "        watchlist = [ (xgtrain,'train'), (xgtest, 'test')]\n",
    "        train_start = time()\n",
    "        cvresult = xgb.cv(plist, xgtrain, num_boost_round=alg.get_params()['n_estimators'], nfold=cv_folds,\n",
    "            metrics='logloss', early_stopping_rounds=early_stopping_rounds, show_progress=False)\n",
    "        #model = xgb.train(plist,xgtrain,num_rounds,watchlist,early_stopping_rounds=20)\n",
    "        train_end = time()\n",
    "    else:\n",
    "        xgtest = xgb.DMatrix(test_X)\n",
    "        train_start = time()\n",
    "        model = xgb.train(plist, xgtrain, num_rounds)\n",
    "        train_end = time()\n",
    "    \n",
    "    test_start = time()\n",
    "    pred_test_y = model.predict(xgtest)\n",
    "    test_end = time()\n",
    "    return pred_test_y, model, (train_end - train_start), (test_end - test_start)"
   ]
  },
  {
   "cell_type": "code",
   "execution_count": 5,
   "metadata": {
    "collapsed": false
   },
   "outputs": [],
   "source": [
    "input_path = '../../localData/prj3/training_data/sift_features/sift_features_1000.csv'\n",
    "fix_test_path = '../output/prediction_inceptionV3.csv'\n",
    "test_images = pd.read_csv(fix_test_path)['image']\n",
    "test_images = [x.split('.')[0] for x in test_images.tolist()]\n",
    "\n",
    "total_df = pd.read_csv(input_path).transpose()\n",
    "\n",
    "labels = [1 for i in range(1000)] + [0 for i in range(1000)]\n",
    "total_df['label'] = labels"
   ]
  },
  {
   "cell_type": "code",
   "execution_count": 6,
   "metadata": {
    "collapsed": false
   },
   "outputs": [],
   "source": [
    "# for ensemble purpose make sure test set the same as in inceptionV3 model\n",
    "test_df = total_df.ix[total_df.index.isin(test_images)]\n",
    "train_df = total_df.ix[~total_df.index.isin(test_images)]\n",
    "\n",
    "train_X = train_df.ix[:,:1000]\n",
    "train_y = train_df['label']\n",
    "\n",
    "test_X = test_df.ix[:,:1000]\n",
    "test_y = test_df['label']\n",
    "\n",
    "train_X = sparse.csr_matrix(train_X.values)\n",
    "test_X = sparse.csr_matrix(test_X.values)\n",
    "\n",
    "train_y = np.array(train_y)\n",
    "test_y = np.array(test_y)"
   ]
  },
  {
   "cell_type": "code",
   "execution_count": 22,
   "metadata": {
    "collapsed": true
   },
   "outputs": [],
   "source": [
    "preds, _ , training_time, predicting_time = runXGB(train_X, train_y, test_X, num_rounds=400)"
   ]
  },
  {
   "cell_type": "code",
   "execution_count": 23,
   "metadata": {
    "collapsed": false
   },
   "outputs": [
    {
     "name": "stdout",
     "output_type": "stream",
     "text": [
      "training time is:50.34seconds;\n",
      "predicting time is:0.01seconds.\n"
     ]
    }
   ],
   "source": [
    "print('training time is:'+str(round(training_time,2))+'seconds;\\npredicting time is:'+\n",
    "str(round(predicting_time,2))+'seconds.')"
   ]
  },
  {
   "cell_type": "code",
   "execution_count": 24,
   "metadata": {
    "collapsed": false
   },
   "outputs": [],
   "source": [
    "out_df = pd.DataFrame(preds)"
   ]
  },
  {
   "cell_type": "code",
   "execution_count": 25,
   "metadata": {
    "collapsed": false
   },
   "outputs": [
    {
     "data": {
      "text/html": [
       "<div>\n",
       "<table border=\"1\" class=\"dataframe\">\n",
       "  <thead>\n",
       "    <tr style=\"text-align: right;\">\n",
       "      <th></th>\n",
       "      <th>0</th>\n",
       "      <th>1</th>\n",
       "    </tr>\n",
       "  </thead>\n",
       "  <tbody>\n",
       "    <tr>\n",
       "      <th>0</th>\n",
       "      <td>0.930725</td>\n",
       "      <td>0.069275</td>\n",
       "    </tr>\n",
       "    <tr>\n",
       "      <th>1</th>\n",
       "      <td>0.757777</td>\n",
       "      <td>0.242223</td>\n",
       "    </tr>\n",
       "    <tr>\n",
       "      <th>2</th>\n",
       "      <td>0.432586</td>\n",
       "      <td>0.567414</td>\n",
       "    </tr>\n",
       "    <tr>\n",
       "      <th>3</th>\n",
       "      <td>0.802996</td>\n",
       "      <td>0.197004</td>\n",
       "    </tr>\n",
       "    <tr>\n",
       "      <th>4</th>\n",
       "      <td>0.065175</td>\n",
       "      <td>0.934825</td>\n",
       "    </tr>\n",
       "  </tbody>\n",
       "</table>\n",
       "</div>"
      ],
      "text/plain": [
       "          0         1\n",
       "0  0.930725  0.069275\n",
       "1  0.757777  0.242223\n",
       "2  0.432586  0.567414\n",
       "3  0.802996  0.197004\n",
       "4  0.065175  0.934825"
      ]
     },
     "execution_count": 25,
     "metadata": {},
     "output_type": "execute_result"
    }
   ],
   "source": [
    "out_df.head()"
   ]
  },
  {
   "cell_type": "code",
   "execution_count": 14,
   "metadata": {
    "collapsed": false
   },
   "outputs": [
    {
     "data": {
      "text/plain": [
       "(1600, 5000)"
      ]
     },
     "execution_count": 14,
     "metadata": {},
     "output_type": "execute_result"
    }
   ],
   "source": [
    "train_X.shape"
   ]
  },
  {
   "cell_type": "code",
   "execution_count": 15,
   "metadata": {
    "collapsed": false
   },
   "outputs": [
    {
     "data": {
      "text/plain": [
       "(1600,)"
      ]
     },
     "execution_count": 15,
     "metadata": {},
     "output_type": "execute_result"
    }
   ],
   "source": [
    "train_y.shape"
   ]
  },
  {
   "cell_type": "code",
   "execution_count": 17,
   "metadata": {
    "collapsed": false
   },
   "outputs": [
    {
     "data": {
      "text/plain": [
       "(400, 5000)"
      ]
     },
     "execution_count": 17,
     "metadata": {},
     "output_type": "execute_result"
    }
   ],
   "source": [
    "test_X.shape"
   ]
  },
  {
   "cell_type": "code",
   "execution_count": 18,
   "metadata": {
    "collapsed": false
   },
   "outputs": [
    {
     "data": {
      "text/plain": [
       "array([1, 1, 1, ..., 0, 0, 0])"
      ]
     },
     "execution_count": 18,
     "metadata": {},
     "output_type": "execute_result"
    }
   ],
   "source": [
    "train_y"
   ]
  },
  {
   "cell_type": "code",
   "execution_count": 20,
   "metadata": {
    "collapsed": false
   },
   "outputs": [],
   "source": [
    "param = {}\n",
    "param['objective'] = 'multi:softprob'\n",
    "param['eta'] = 0.1\n",
    "param['max_depth'] = 6\n",
    "param['silent'] = 1\n",
    "param['num_class'] = 3\n",
    "param['eval_metric'] = \"mlogloss\"\n",
    "param['min_child_weight'] = 1\n",
    "param['subsample'] = 0.7\n",
    "param['colsample_bytree'] = 0.7\n",
    "param['seed'] = 0\n",
    "num_rounds = 400"
   ]
  },
  {
   "cell_type": "code",
   "execution_count": null,
   "metadata": {
    "collapsed": true
   },
   "outputs": [],
   "source": []
  }
 ],
 "metadata": {
  "kernelspec": {
   "display_name": "Python 2",
   "language": "python",
   "name": "python2"
  },
  "language_info": {
   "codemirror_mode": {
    "name": "ipython",
    "version": 2
   },
   "file_extension": ".py",
   "mimetype": "text/x-python",
   "name": "python",
   "nbconvert_exporter": "python",
   "pygments_lexer": "ipython2",
   "version": "2.7.13"
  }
 },
 "nbformat": 4,
 "nbformat_minor": 2
}
