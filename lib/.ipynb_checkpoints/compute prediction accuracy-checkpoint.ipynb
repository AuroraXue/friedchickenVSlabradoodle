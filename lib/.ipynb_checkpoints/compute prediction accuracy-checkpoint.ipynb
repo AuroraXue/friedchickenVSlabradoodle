{
 "cells": [
  {
   "cell_type": "code",
   "execution_count": 1,
   "metadata": {
    "collapsed": true
   },
   "outputs": [],
   "source": [
    "predict_path = '../output/prediction_inceptionV3.csv'"
   ]
  },
  {
   "cell_type": "code",
   "execution_count": 23,
   "metadata": {
    "collapsed": true
   },
   "outputs": [],
   "source": [
    "import pandas as pd\n",
    "import numpy as np"
   ]
  },
  {
   "cell_type": "code",
   "execution_count": 3,
   "metadata": {
    "collapsed": true
   },
   "outputs": [],
   "source": [
    "prediction = pd.read_csv(predict_path)"
   ]
  },
  {
   "cell_type": "code",
   "execution_count": 4,
   "metadata": {
    "collapsed": false
   },
   "outputs": [
    {
     "data": {
      "text/html": [
       "<div>\n",
       "<table border=\"1\" class=\"dataframe\">\n",
       "  <thead>\n",
       "    <tr style=\"text-align: right;\">\n",
       "      <th></th>\n",
       "      <th>image</th>\n",
       "      <th>labradoodle</th>\n",
       "      <th>friedChicken</th>\n",
       "    </tr>\n",
       "  </thead>\n",
       "  <tbody>\n",
       "    <tr>\n",
       "      <th>0</th>\n",
       "      <td>image_0972.jpg</td>\n",
       "      <td>0.011071</td>\n",
       "      <td>0.988929</td>\n",
       "    </tr>\n",
       "    <tr>\n",
       "      <th>1</th>\n",
       "      <td>image_0799.jpg</td>\n",
       "      <td>0.014187</td>\n",
       "      <td>0.985813</td>\n",
       "    </tr>\n",
       "    <tr>\n",
       "      <th>2</th>\n",
       "      <td>image_0597.jpg</td>\n",
       "      <td>0.045316</td>\n",
       "      <td>0.954684</td>\n",
       "    </tr>\n",
       "    <tr>\n",
       "      <th>3</th>\n",
       "      <td>image_0145.jpg</td>\n",
       "      <td>0.111360</td>\n",
       "      <td>0.888640</td>\n",
       "    </tr>\n",
       "    <tr>\n",
       "      <th>4</th>\n",
       "      <td>image_0667.jpg</td>\n",
       "      <td>0.032087</td>\n",
       "      <td>0.967913</td>\n",
       "    </tr>\n",
       "  </tbody>\n",
       "</table>\n",
       "</div>"
      ],
      "text/plain": [
       "            image  labradoodle  friedChicken\n",
       "0  image_0972.jpg     0.011071      0.988929\n",
       "1  image_0799.jpg     0.014187      0.985813\n",
       "2  image_0597.jpg     0.045316      0.954684\n",
       "3  image_0145.jpg     0.111360      0.888640\n",
       "4  image_0667.jpg     0.032087      0.967913"
      ]
     },
     "execution_count": 4,
     "metadata": {},
     "output_type": "execute_result"
    }
   ],
   "source": [
    "prediction.head()"
   ]
  },
  {
   "cell_type": "code",
   "execution_count": 6,
   "metadata": {
    "collapsed": false
   },
   "outputs": [],
   "source": [
    "prediction['predict_label'] = (prediction['friedChicken']>0.5).astype(int)"
   ]
  },
  {
   "cell_type": "code",
   "execution_count": 7,
   "metadata": {
    "collapsed": false
   },
   "outputs": [
    {
     "data": {
      "text/html": [
       "<div>\n",
       "<table border=\"1\" class=\"dataframe\">\n",
       "  <thead>\n",
       "    <tr style=\"text-align: right;\">\n",
       "      <th></th>\n",
       "      <th>image</th>\n",
       "      <th>labradoodle</th>\n",
       "      <th>friedChicken</th>\n",
       "      <th>predict_label</th>\n",
       "    </tr>\n",
       "  </thead>\n",
       "  <tbody>\n",
       "    <tr>\n",
       "      <th>0</th>\n",
       "      <td>image_0972.jpg</td>\n",
       "      <td>0.011071</td>\n",
       "      <td>0.988929</td>\n",
       "      <td>1</td>\n",
       "    </tr>\n",
       "    <tr>\n",
       "      <th>1</th>\n",
       "      <td>image_0799.jpg</td>\n",
       "      <td>0.014187</td>\n",
       "      <td>0.985813</td>\n",
       "      <td>1</td>\n",
       "    </tr>\n",
       "    <tr>\n",
       "      <th>2</th>\n",
       "      <td>image_0597.jpg</td>\n",
       "      <td>0.045316</td>\n",
       "      <td>0.954684</td>\n",
       "      <td>1</td>\n",
       "    </tr>\n",
       "    <tr>\n",
       "      <th>3</th>\n",
       "      <td>image_0145.jpg</td>\n",
       "      <td>0.111360</td>\n",
       "      <td>0.888640</td>\n",
       "      <td>1</td>\n",
       "    </tr>\n",
       "    <tr>\n",
       "      <th>4</th>\n",
       "      <td>image_0667.jpg</td>\n",
       "      <td>0.032087</td>\n",
       "      <td>0.967913</td>\n",
       "      <td>1</td>\n",
       "    </tr>\n",
       "  </tbody>\n",
       "</table>\n",
       "</div>"
      ],
      "text/plain": [
       "            image  labradoodle  friedChicken  predict_label\n",
       "0  image_0972.jpg     0.011071      0.988929              1\n",
       "1  image_0799.jpg     0.014187      0.985813              1\n",
       "2  image_0597.jpg     0.045316      0.954684              1\n",
       "3  image_0145.jpg     0.111360      0.888640              1\n",
       "4  image_0667.jpg     0.032087      0.967913              1"
      ]
     },
     "execution_count": 7,
     "metadata": {},
     "output_type": "execute_result"
    }
   ],
   "source": [
    "prediction.head()"
   ]
  },
  {
   "cell_type": "code",
   "execution_count": 9,
   "metadata": {
    "collapsed": false
   },
   "outputs": [],
   "source": [
    "prediction = prediction.sort_values('image')"
   ]
  },
  {
   "cell_type": "code",
   "execution_count": 10,
   "metadata": {
    "collapsed": false
   },
   "outputs": [
    {
     "data": {
      "text/html": [
       "<div>\n",
       "<table border=\"1\" class=\"dataframe\">\n",
       "  <thead>\n",
       "    <tr style=\"text-align: right;\">\n",
       "      <th></th>\n",
       "      <th>image</th>\n",
       "      <th>labradoodle</th>\n",
       "      <th>friedChicken</th>\n",
       "      <th>predict_label</th>\n",
       "    </tr>\n",
       "  </thead>\n",
       "  <tbody>\n",
       "    <tr>\n",
       "      <th>199</th>\n",
       "      <td>image_0005.jpg</td>\n",
       "      <td>0.007512</td>\n",
       "      <td>0.992488</td>\n",
       "      <td>1</td>\n",
       "    </tr>\n",
       "    <tr>\n",
       "      <th>88</th>\n",
       "      <td>image_0006.jpg</td>\n",
       "      <td>0.019481</td>\n",
       "      <td>0.980519</td>\n",
       "      <td>1</td>\n",
       "    </tr>\n",
       "    <tr>\n",
       "      <th>97</th>\n",
       "      <td>image_0007.jpg</td>\n",
       "      <td>0.012787</td>\n",
       "      <td>0.987213</td>\n",
       "      <td>1</td>\n",
       "    </tr>\n",
       "    <tr>\n",
       "      <th>17</th>\n",
       "      <td>image_0019.jpg</td>\n",
       "      <td>0.005649</td>\n",
       "      <td>0.994351</td>\n",
       "      <td>1</td>\n",
       "    </tr>\n",
       "    <tr>\n",
       "      <th>160</th>\n",
       "      <td>image_0020.jpg</td>\n",
       "      <td>0.036775</td>\n",
       "      <td>0.963225</td>\n",
       "      <td>1</td>\n",
       "    </tr>\n",
       "  </tbody>\n",
       "</table>\n",
       "</div>"
      ],
      "text/plain": [
       "              image  labradoodle  friedChicken  predict_label\n",
       "199  image_0005.jpg     0.007512      0.992488              1\n",
       "88   image_0006.jpg     0.019481      0.980519              1\n",
       "97   image_0007.jpg     0.012787      0.987213              1\n",
       "17   image_0019.jpg     0.005649      0.994351              1\n",
       "160  image_0020.jpg     0.036775      0.963225              1"
      ]
     },
     "execution_count": 10,
     "metadata": {},
     "output_type": "execute_result"
    }
   ],
   "source": [
    "prediction.head()"
   ]
  },
  {
   "cell_type": "raw",
   "metadata": {},
   "source": [
    "def map_index(r):\n",
    "    return int(r['image'].split('_')[1].split('.')[0])"
   ]
  },
  {
   "cell_type": "code",
   "execution_count": 18,
   "metadata": {
    "collapsed": false
   },
   "outputs": [],
   "source": [
    "prediction['ind'] = prediction.apply(map_index, axis=1)"
   ]
  },
  {
   "cell_type": "code",
   "execution_count": 19,
   "metadata": {
    "collapsed": false
   },
   "outputs": [
    {
     "data": {
      "text/html": [
       "<div>\n",
       "<table border=\"1\" class=\"dataframe\">\n",
       "  <thead>\n",
       "    <tr style=\"text-align: right;\">\n",
       "      <th></th>\n",
       "      <th>image</th>\n",
       "      <th>labradoodle</th>\n",
       "      <th>friedChicken</th>\n",
       "      <th>predict_label</th>\n",
       "      <th>ind</th>\n",
       "    </tr>\n",
       "  </thead>\n",
       "  <tbody>\n",
       "    <tr>\n",
       "      <th>199</th>\n",
       "      <td>image_0005.jpg</td>\n",
       "      <td>0.007512</td>\n",
       "      <td>0.992488</td>\n",
       "      <td>1</td>\n",
       "      <td>5</td>\n",
       "    </tr>\n",
       "    <tr>\n",
       "      <th>88</th>\n",
       "      <td>image_0006.jpg</td>\n",
       "      <td>0.019481</td>\n",
       "      <td>0.980519</td>\n",
       "      <td>1</td>\n",
       "      <td>6</td>\n",
       "    </tr>\n",
       "    <tr>\n",
       "      <th>97</th>\n",
       "      <td>image_0007.jpg</td>\n",
       "      <td>0.012787</td>\n",
       "      <td>0.987213</td>\n",
       "      <td>1</td>\n",
       "      <td>7</td>\n",
       "    </tr>\n",
       "    <tr>\n",
       "      <th>17</th>\n",
       "      <td>image_0019.jpg</td>\n",
       "      <td>0.005649</td>\n",
       "      <td>0.994351</td>\n",
       "      <td>1</td>\n",
       "      <td>19</td>\n",
       "    </tr>\n",
       "    <tr>\n",
       "      <th>160</th>\n",
       "      <td>image_0020.jpg</td>\n",
       "      <td>0.036775</td>\n",
       "      <td>0.963225</td>\n",
       "      <td>1</td>\n",
       "      <td>20</td>\n",
       "    </tr>\n",
       "  </tbody>\n",
       "</table>\n",
       "</div>"
      ],
      "text/plain": [
       "              image  labradoodle  friedChicken  predict_label  ind\n",
       "199  image_0005.jpg     0.007512      0.992488              1    5\n",
       "88   image_0006.jpg     0.019481      0.980519              1    6\n",
       "97   image_0007.jpg     0.012787      0.987213              1    7\n",
       "17   image_0019.jpg     0.005649      0.994351              1   19\n",
       "160  image_0020.jpg     0.036775      0.963225              1   20"
      ]
     },
     "execution_count": 19,
     "metadata": {},
     "output_type": "execute_result"
    }
   ],
   "source": [
    "prediction.head()"
   ]
  },
  {
   "cell_type": "code",
   "execution_count": 20,
   "metadata": {
    "collapsed": true
   },
   "outputs": [],
   "source": [
    "prediction['true_label'] = (prediction['ind']<=1000).astype(int)"
   ]
  },
  {
   "cell_type": "code",
   "execution_count": 21,
   "metadata": {
    "collapsed": false
   },
   "outputs": [
    {
     "data": {
      "text/html": [
       "<div>\n",
       "<table border=\"1\" class=\"dataframe\">\n",
       "  <thead>\n",
       "    <tr style=\"text-align: right;\">\n",
       "      <th></th>\n",
       "      <th>image</th>\n",
       "      <th>labradoodle</th>\n",
       "      <th>friedChicken</th>\n",
       "      <th>predict_label</th>\n",
       "      <th>ind</th>\n",
       "      <th>true_label</th>\n",
       "    </tr>\n",
       "  </thead>\n",
       "  <tbody>\n",
       "    <tr>\n",
       "      <th>199</th>\n",
       "      <td>image_0005.jpg</td>\n",
       "      <td>0.007512</td>\n",
       "      <td>0.992488</td>\n",
       "      <td>1</td>\n",
       "      <td>5</td>\n",
       "      <td>1</td>\n",
       "    </tr>\n",
       "    <tr>\n",
       "      <th>88</th>\n",
       "      <td>image_0006.jpg</td>\n",
       "      <td>0.019481</td>\n",
       "      <td>0.980519</td>\n",
       "      <td>1</td>\n",
       "      <td>6</td>\n",
       "      <td>1</td>\n",
       "    </tr>\n",
       "    <tr>\n",
       "      <th>97</th>\n",
       "      <td>image_0007.jpg</td>\n",
       "      <td>0.012787</td>\n",
       "      <td>0.987213</td>\n",
       "      <td>1</td>\n",
       "      <td>7</td>\n",
       "      <td>1</td>\n",
       "    </tr>\n",
       "    <tr>\n",
       "      <th>17</th>\n",
       "      <td>image_0019.jpg</td>\n",
       "      <td>0.005649</td>\n",
       "      <td>0.994351</td>\n",
       "      <td>1</td>\n",
       "      <td>19</td>\n",
       "      <td>1</td>\n",
       "    </tr>\n",
       "    <tr>\n",
       "      <th>160</th>\n",
       "      <td>image_0020.jpg</td>\n",
       "      <td>0.036775</td>\n",
       "      <td>0.963225</td>\n",
       "      <td>1</td>\n",
       "      <td>20</td>\n",
       "      <td>1</td>\n",
       "    </tr>\n",
       "  </tbody>\n",
       "</table>\n",
       "</div>"
      ],
      "text/plain": [
       "              image  labradoodle  friedChicken  predict_label  ind  true_label\n",
       "199  image_0005.jpg     0.007512      0.992488              1    5           1\n",
       "88   image_0006.jpg     0.019481      0.980519              1    6           1\n",
       "97   image_0007.jpg     0.012787      0.987213              1    7           1\n",
       "17   image_0019.jpg     0.005649      0.994351              1   19           1\n",
       "160  image_0020.jpg     0.036775      0.963225              1   20           1"
      ]
     },
     "execution_count": 21,
     "metadata": {},
     "output_type": "execute_result"
    }
   ],
   "source": [
    "prediction.head()"
   ]
  },
  {
   "cell_type": "code",
   "execution_count": 25,
   "metadata": {
    "collapsed": false
   },
   "outputs": [
    {
     "data": {
      "text/plain": [
       "(400, 6)"
      ]
     },
     "execution_count": 25,
     "metadata": {},
     "output_type": "execute_result"
    }
   ],
   "source": [
    "prediction.shape"
   ]
  },
  {
   "cell_type": "code",
   "execution_count": 29,
   "metadata": {
    "collapsed": false
   },
   "outputs": [],
   "source": [
    "accuracy = 1 - np.sum(np.abs(prediction['predict_label'] - prediction['true_label']))/400.0"
   ]
  },
  {
   "cell_type": "code",
   "execution_count": 30,
   "metadata": {
    "collapsed": false
   },
   "outputs": [
    {
     "data": {
      "text/plain": [
       "0.98999999999999999"
      ]
     },
     "execution_count": 30,
     "metadata": {},
     "output_type": "execute_result"
    }
   ],
   "source": [
    "accuracy"
   ]
  },
  {
   "cell_type": "code",
   "execution_count": null,
   "metadata": {
    "collapsed": true
   },
   "outputs": [],
   "source": []
  }
 ],
 "metadata": {
  "kernelspec": {
   "display_name": "Python 2",
   "language": "python",
   "name": "python2"
  },
  "language_info": {
   "codemirror_mode": {
    "name": "ipython",
    "version": 2
   },
   "file_extension": ".py",
   "mimetype": "text/x-python",
   "name": "python",
   "nbconvert_exporter": "python",
   "pygments_lexer": "ipython2",
   "version": "2.7.13"
  }
 },
 "nbformat": 4,
 "nbformat_minor": 2
}
