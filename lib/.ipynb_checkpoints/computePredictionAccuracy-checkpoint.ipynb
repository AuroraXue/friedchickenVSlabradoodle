{
 "cells": [
  {
   "cell_type": "markdown",
   "metadata": {
    "collapsed": true
   },
   "source": [
    "# Accuracy for Inception V3"
   ]
  },
  {
   "cell_type": "code",
   "execution_count": 5,
   "metadata": {
    "collapsed": false
   },
   "outputs": [
    {
     "data": {
      "text/plain": [
       "0.98999999999999999"
      ]
     },
     "execution_count": 5,
     "metadata": {},
     "output_type": "execute_result"
    }
   ],
   "source": [
    "import pandas as pd\n",
    "import numpy as np\n",
    "\n",
    "predict_path = '../output/prediction_inceptionV3.csv'\n",
    "prediction = pd.read_csv(predict_path)\n",
    "prediction['predict_label'] = (prediction['friedChicken']>0.5).astype(int)\n",
    "prediction = prediction.sort_values('image')\n",
    "\n",
    "def map_index(r):\n",
    "    return int(r['image'].split('_')[1].split('.')[0])\n",
    "\n",
    "prediction['ind'] = prediction.apply(map_index, axis=1)\n",
    "prediction['true_label'] = (prediction['ind']<=1000).astype(int)\n",
    "accuracy = 1 - np.sum(np.abs(prediction['predict_label'] - prediction['true_label']))/400.0\n",
    "accuracy"
   ]
  },
  {
   "cell_type": "markdown",
   "metadata": {
    "collapsed": true
   },
   "source": [
    "# Accuracy for XGBoost"
   ]
  },
  {
   "cell_type": "code",
   "execution_count": 22,
   "metadata": {
    "collapsed": true
   },
   "outputs": [],
   "source": [
    "import pandas as pd\n",
    "import numpy as np\n",
    "\n",
    "predict_path = '../output/prediction_xgboost_cnn150.csv'\n",
    "prediction = pd.read_csv(predict_path)"
   ]
  },
  {
   "cell_type": "code",
   "execution_count": 23,
   "metadata": {
    "collapsed": false
   },
   "outputs": [
    {
     "data": {
      "text/html": [
       "<div>\n",
       "<table border=\"1\" class=\"dataframe\">\n",
       "  <thead>\n",
       "    <tr style=\"text-align: right;\">\n",
       "      <th></th>\n",
       "      <th>friedChicken</th>\n",
       "      <th>labradoodle</th>\n",
       "      <th>image</th>\n",
       "    </tr>\n",
       "  </thead>\n",
       "  <tbody>\n",
       "    <tr>\n",
       "      <th>0</th>\n",
       "      <td>0.451640</td>\n",
       "      <td>0.548360</td>\n",
       "      <td>image_0005</td>\n",
       "    </tr>\n",
       "    <tr>\n",
       "      <th>1</th>\n",
       "      <td>0.614623</td>\n",
       "      <td>0.385377</td>\n",
       "      <td>image_0006</td>\n",
       "    </tr>\n",
       "    <tr>\n",
       "      <th>2</th>\n",
       "      <td>0.796876</td>\n",
       "      <td>0.203124</td>\n",
       "      <td>image_0007</td>\n",
       "    </tr>\n",
       "    <tr>\n",
       "      <th>3</th>\n",
       "      <td>0.803318</td>\n",
       "      <td>0.196682</td>\n",
       "      <td>image_0019</td>\n",
       "    </tr>\n",
       "    <tr>\n",
       "      <th>4</th>\n",
       "      <td>0.760485</td>\n",
       "      <td>0.239515</td>\n",
       "      <td>image_0020</td>\n",
       "    </tr>\n",
       "  </tbody>\n",
       "</table>\n",
       "</div>"
      ],
      "text/plain": [
       "   friedChicken  labradoodle       image\n",
       "0      0.451640     0.548360  image_0005\n",
       "1      0.614623     0.385377  image_0006\n",
       "2      0.796876     0.203124  image_0007\n",
       "3      0.803318     0.196682  image_0019\n",
       "4      0.760485     0.239515  image_0020"
      ]
     },
     "execution_count": 23,
     "metadata": {},
     "output_type": "execute_result"
    }
   ],
   "source": [
    "prediction.head()"
   ]
  },
  {
   "cell_type": "code",
   "execution_count": 24,
   "metadata": {
    "collapsed": false
   },
   "outputs": [
    {
     "data": {
      "text/plain": [
       "0.84499999999999997"
      ]
     },
     "execution_count": 24,
     "metadata": {},
     "output_type": "execute_result"
    }
   ],
   "source": [
    "prediction['predict_label'] = (prediction['labradoodle']>0.5).astype(int)\n",
    "prediction = prediction.sort_values('image')\n",
    "\n",
    "def map_index(r):\n",
    "    return int(r['image'].split('_')[1].split('.')[0])\n",
    "\n",
    "prediction['ind'] = prediction.apply(map_index, axis=1)\n",
    "prediction['true_label'] = (prediction['ind']>1000).astype(int)\n",
    "accuracy = 1 - np.sum(np.abs(prediction['predict_label'] - prediction['true_label']))/400.0\n",
    "accuracy"
   ]
  },
  {
   "cell_type": "code",
   "execution_count": 4,
   "metadata": {
    "collapsed": false
   },
   "outputs": [
    {
     "data": {
      "text/html": [
       "<div>\n",
       "<table border=\"1\" class=\"dataframe\">\n",
       "  <thead>\n",
       "    <tr style=\"text-align: right;\">\n",
       "      <th></th>\n",
       "      <th>friedChicken</th>\n",
       "      <th>labradoodle</th>\n",
       "      <th>image</th>\n",
       "      <th>predict_label</th>\n",
       "      <th>ind</th>\n",
       "      <th>true_label</th>\n",
       "    </tr>\n",
       "  </thead>\n",
       "  <tbody>\n",
       "    <tr>\n",
       "      <th>0</th>\n",
       "      <td>0.659680</td>\n",
       "      <td>0.340320</td>\n",
       "      <td>image_0005</td>\n",
       "      <td>0</td>\n",
       "      <td>5</td>\n",
       "      <td>0</td>\n",
       "    </tr>\n",
       "    <tr>\n",
       "      <th>1</th>\n",
       "      <td>0.291373</td>\n",
       "      <td>0.708627</td>\n",
       "      <td>image_0006</td>\n",
       "      <td>1</td>\n",
       "      <td>6</td>\n",
       "      <td>0</td>\n",
       "    </tr>\n",
       "    <tr>\n",
       "      <th>2</th>\n",
       "      <td>0.795648</td>\n",
       "      <td>0.204352</td>\n",
       "      <td>image_0007</td>\n",
       "      <td>0</td>\n",
       "      <td>7</td>\n",
       "      <td>0</td>\n",
       "    </tr>\n",
       "    <tr>\n",
       "      <th>3</th>\n",
       "      <td>0.772242</td>\n",
       "      <td>0.227758</td>\n",
       "      <td>image_0019</td>\n",
       "      <td>0</td>\n",
       "      <td>19</td>\n",
       "      <td>0</td>\n",
       "    </tr>\n",
       "    <tr>\n",
       "      <th>4</th>\n",
       "      <td>0.330087</td>\n",
       "      <td>0.669913</td>\n",
       "      <td>image_0020</td>\n",
       "      <td>1</td>\n",
       "      <td>20</td>\n",
       "      <td>0</td>\n",
       "    </tr>\n",
       "  </tbody>\n",
       "</table>\n",
       "</div>"
      ],
      "text/plain": [
       "   friedChicken  labradoodle       image  predict_label  ind  true_label\n",
       "0      0.659680     0.340320  image_0005              0    5           0\n",
       "1      0.291373     0.708627  image_0006              1    6           0\n",
       "2      0.795648     0.204352  image_0007              0    7           0\n",
       "3      0.772242     0.227758  image_0019              0   19           0\n",
       "4      0.330087     0.669913  image_0020              1   20           0"
      ]
     },
     "execution_count": 4,
     "metadata": {},
     "output_type": "execute_result"
    }
   ],
   "source": [
    "prediction.head()"
   ]
  },
  {
   "cell_type": "markdown",
   "metadata": {
    "collapsed": true
   },
   "source": [
    "# Accuracy for Ensemble Models"
   ]
  },
  {
   "cell_type": "code",
   "execution_count": 29,
   "metadata": {
    "collapsed": true
   },
   "outputs": [],
   "source": [
    "import pandas as pd\n",
    "import numpy as np\n",
    "\n",
    "pred_path1 = '../output/prediction_LogisticRegression_sift1000.csv'\n",
    "pred1 = pd.read_csv(pred_path1)\n",
    "pred_path2 = '../output/prediction_xgboost_sift1000.csv'\n",
    "pred2 = pd.read_csv(pred_path2)"
   ]
  },
  {
   "cell_type": "code",
   "execution_count": 30,
   "metadata": {
    "collapsed": true
   },
   "outputs": [],
   "source": [
    "pred_ensemble = (pred1['labradoodle'] + pred2['labradoodle'])/2.0"
   ]
  },
  {
   "cell_type": "code",
   "execution_count": 31,
   "metadata": {
    "collapsed": false
   },
   "outputs": [
    {
     "data": {
      "text/plain": [
       "0.65249999999999997"
      ]
     },
     "execution_count": 31,
     "metadata": {},
     "output_type": "execute_result"
    }
   ],
   "source": [
    "sum((pred_ensemble>=0.5)==prediction['true_label'])/400.0"
   ]
  },
  {
   "cell_type": "code",
   "execution_count": null,
   "metadata": {
    "collapsed": true
   },
   "outputs": [],
   "source": []
  }
 ],
 "metadata": {
  "kernelspec": {
   "display_name": "Python 2",
   "language": "python",
   "name": "python2"
  },
  "language_info": {
   "codemirror_mode": {
    "name": "ipython",
    "version": 2
   },
   "file_extension": ".py",
   "mimetype": "text/x-python",
   "name": "python",
   "nbconvert_exporter": "python",
   "pygments_lexer": "ipython2",
   "version": "2.7.13"
  }
 },
 "nbformat": 4,
 "nbformat_minor": 2
}
