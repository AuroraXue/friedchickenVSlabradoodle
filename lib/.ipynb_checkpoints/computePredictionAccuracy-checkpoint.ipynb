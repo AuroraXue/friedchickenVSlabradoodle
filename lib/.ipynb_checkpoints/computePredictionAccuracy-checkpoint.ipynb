{
 "cells": [
  {
   "cell_type": "markdown",
   "metadata": {
    "collapsed": true
   },
   "source": [
    "# Accuracy for Inception V3"
   ]
  },
  {
   "cell_type": "code",
   "execution_count": 5,
   "metadata": {
    "collapsed": false
   },
   "outputs": [
    {
     "data": {
      "text/plain": [
       "0.98999999999999999"
      ]
     },
     "execution_count": 5,
     "metadata": {},
     "output_type": "execute_result"
    }
   ],
   "source": [
    "import pandas as pd\n",
    "import numpy as np\n",
    "\n",
    "predict_path = '../output/prediction_inceptionV3.csv'\n",
    "prediction = pd.read_csv(predict_path)\n",
    "prediction['predict_label'] = (prediction['friedChicken']>0.5).astype(int)\n",
    "prediction = prediction.sort_values('image')\n",
    "\n",
    "def map_index(r):\n",
    "    return int(r['image'].split('_')[1].split('.')[0])\n",
    "\n",
    "prediction['ind'] = prediction.apply(map_index, axis=1)\n",
    "prediction['true_label'] = (prediction['ind']<=1000).astype(int)\n",
    "accuracy = 1 - np.sum(np.abs(prediction['predict_label'] - prediction['true_label']))/400.0\n",
    "accuracy"
   ]
  },
  {
   "cell_type": "markdown",
   "metadata": {
    "collapsed": true
   },
   "source": [
    "# Accuracy for XGBoost"
   ]
  },
  {
   "cell_type": "code",
   "execution_count": 1,
   "metadata": {
    "collapsed": true
   },
   "outputs": [],
   "source": [
    "import pandas as pd\n",
    "import numpy as np\n",
    "\n",
    "predict_path = '../output/prediction_xgboost_2048cnn.csv'\n",
    "prediction = pd.read_csv(predict_path)"
   ]
  },
  {
   "cell_type": "code",
   "execution_count": 4,
   "metadata": {
    "collapsed": false
   },
   "outputs": [
    {
     "data": {
      "text/plain": [
       "0.9375"
      ]
     },
     "execution_count": 4,
     "metadata": {},
     "output_type": "execute_result"
    }
   ],
   "source": [
    "prediction['predict_label'] = (prediction['friedChicken']>0.5).astype(int)\n",
    "prediction = prediction.sort_values('image')\n",
    "\n",
    "def map_index(r):\n",
    "    return int(r['image'].split('_')[1].split('.')[0])\n",
    "\n",
    "prediction['ind'] = prediction.apply(map_index, axis=1)\n",
    "prediction['true_label'] = (prediction['ind']<=1000).astype(int)\n",
    "accuracy = 1 - np.sum(np.abs(prediction['predict_label'] - prediction['true_label']))/400.0\n",
    "accuracy"
   ]
  },
  {
   "cell_type": "code",
   "execution_count": null,
   "metadata": {
    "collapsed": true
   },
   "outputs": [],
   "source": []
  }
 ],
 "metadata": {
  "kernelspec": {
   "display_name": "Python 2",
   "language": "python",
   "name": "python2"
  },
  "language_info": {
   "codemirror_mode": {
    "name": "ipython",
    "version": 2
   },
   "file_extension": ".py",
   "mimetype": "text/x-python",
   "name": "python",
   "nbconvert_exporter": "python",
   "pygments_lexer": "ipython2",
   "version": "2.7.13"
  }
 },
 "nbformat": 4,
 "nbformat_minor": 2
}
