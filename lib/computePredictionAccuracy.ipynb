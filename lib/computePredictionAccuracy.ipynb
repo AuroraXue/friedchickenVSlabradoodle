{
 "cells": [
  {
   "cell_type": "markdown",
   "metadata": {
    "collapsed": true
   },
   "source": [
    "# Accuracy for Inception V3"
   ]
  },
  {
   "cell_type": "code",
   "execution_count": 5,
   "metadata": {
    "collapsed": false
   },
   "outputs": [
    {
     "data": {
      "text/plain": [
       "0.98999999999999999"
      ]
     },
     "execution_count": 5,
     "metadata": {},
     "output_type": "execute_result"
    }
   ],
   "source": [
    "import pandas as pd\n",
    "import numpy as np\n",
    "\n",
    "predict_path = '../output/prediction_inceptionV3.csv'\n",
    "prediction = pd.read_csv(predict_path)\n",
    "prediction['predict_label'] = (prediction['friedChicken']>0.5).astype(int)\n",
    "prediction = prediction.sort_values('image')\n",
    "\n",
    "def map_index(r):\n",
    "    return int(r['image'].split('_')[1].split('.')[0])\n",
    "\n",
    "prediction['ind'] = prediction.apply(map_index, axis=1)\n",
    "prediction['true_label'] = (prediction['ind']<=1000).astype(int)\n",
    "accuracy = 1 - np.sum(np.abs(prediction['predict_label'] - prediction['true_label']))/400.0\n",
    "accuracy"
   ]
  },
  {
   "cell_type": "markdown",
   "metadata": {
    "collapsed": true
   },
   "source": [
    "# Accuracy for XGBoost"
   ]
  },
  {
   "cell_type": "code",
   "execution_count": 10,
   "metadata": {
    "collapsed": true
   },
   "outputs": [],
   "source": [
    "import pandas as pd\n",
    "import numpy as np\n",
    "\n",
    "predict_path = '../output/prediction_logisticRegression_cnn150.csv'\n",
    "prediction = pd.read_csv(predict_path)"
   ]
  },
  {
   "cell_type": "code",
   "execution_count": 11,
   "metadata": {
    "collapsed": false
   },
   "outputs": [
    {
     "data": {
      "text/plain": [
       "0.89500000000000002"
      ]
     },
     "execution_count": 11,
     "metadata": {},
     "output_type": "execute_result"
    }
   ],
   "source": [
    "prediction['predict_label'] = (prediction['labradoodle']>0.5).astype(int)\n",
    "prediction = prediction.sort_values('image')\n",
    "\n",
    "def map_index(r):\n",
    "    return int(r['image'].split('_')[1].split('.')[0])\n",
    "\n",
    "prediction['ind'] = prediction.apply(map_index, axis=1)\n",
    "prediction['true_label'] = (prediction['ind']>1000).astype(int)\n",
    "accuracy = 1 - np.sum(np.abs(prediction['predict_label'] - prediction['true_label']))/400.0\n",
    "accuracy"
   ]
  },
  {
   "cell_type": "code",
   "execution_count": 12,
   "metadata": {
    "collapsed": false
   },
   "outputs": [
    {
     "data": {
      "text/html": [
       "<div>\n",
       "<table border=\"1\" class=\"dataframe\">\n",
       "  <thead>\n",
       "    <tr style=\"text-align: right;\">\n",
       "      <th></th>\n",
       "      <th>image</th>\n",
       "      <th>labradoodle</th>\n",
       "      <th>friedChicken</th>\n",
       "      <th>predict_label</th>\n",
       "      <th>ind</th>\n",
       "      <th>true_label</th>\n",
       "    </tr>\n",
       "  </thead>\n",
       "  <tbody>\n",
       "    <tr>\n",
       "      <th>0</th>\n",
       "      <td>image_0005.jpg</td>\n",
       "      <td>0.000032</td>\n",
       "      <td>0.999968</td>\n",
       "      <td>0</td>\n",
       "      <td>5</td>\n",
       "      <td>0</td>\n",
       "    </tr>\n",
       "    <tr>\n",
       "      <th>1</th>\n",
       "      <td>image_0006.jpg</td>\n",
       "      <td>0.779331</td>\n",
       "      <td>0.220669</td>\n",
       "      <td>1</td>\n",
       "      <td>6</td>\n",
       "      <td>0</td>\n",
       "    </tr>\n",
       "    <tr>\n",
       "      <th>2</th>\n",
       "      <td>image_0007.jpg</td>\n",
       "      <td>0.028847</td>\n",
       "      <td>0.971153</td>\n",
       "      <td>0</td>\n",
       "      <td>7</td>\n",
       "      <td>0</td>\n",
       "    </tr>\n",
       "    <tr>\n",
       "      <th>3</th>\n",
       "      <td>image_0019.jpg</td>\n",
       "      <td>0.051733</td>\n",
       "      <td>0.948267</td>\n",
       "      <td>0</td>\n",
       "      <td>19</td>\n",
       "      <td>0</td>\n",
       "    </tr>\n",
       "    <tr>\n",
       "      <th>4</th>\n",
       "      <td>image_0020.jpg</td>\n",
       "      <td>0.392600</td>\n",
       "      <td>0.607400</td>\n",
       "      <td>0</td>\n",
       "      <td>20</td>\n",
       "      <td>0</td>\n",
       "    </tr>\n",
       "  </tbody>\n",
       "</table>\n",
       "</div>"
      ],
      "text/plain": [
       "            image  labradoodle  friedChicken  predict_label  ind  true_label\n",
       "0  image_0005.jpg     0.000032      0.999968              0    5           0\n",
       "1  image_0006.jpg     0.779331      0.220669              1    6           0\n",
       "2  image_0007.jpg     0.028847      0.971153              0    7           0\n",
       "3  image_0019.jpg     0.051733      0.948267              0   19           0\n",
       "4  image_0020.jpg     0.392600      0.607400              0   20           0"
      ]
     },
     "execution_count": 12,
     "metadata": {},
     "output_type": "execute_result"
    }
   ],
   "source": [
    "prediction.head()"
   ]
  },
  {
   "cell_type": "code",
   "execution_count": null,
   "metadata": {
    "collapsed": true
   },
   "outputs": [],
   "source": []
  }
 ],
 "metadata": {
  "kernelspec": {
   "display_name": "Python 2",
   "language": "python",
   "name": "python2"
  },
  "language_info": {
   "codemirror_mode": {
    "name": "ipython",
    "version": 2
   },
   "file_extension": ".py",
   "mimetype": "text/x-python",
   "name": "python",
   "nbconvert_exporter": "python",
   "pygments_lexer": "ipython2",
   "version": "2.7.13"
  }
 },
 "nbformat": 4,
 "nbformat_minor": 2
}
